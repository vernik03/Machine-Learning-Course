{
 "cells": [
  {
   "cell_type": "markdown",
   "metadata": {},
   "source": [
    "## Греція\n",
    "\n",
    "**Площа:** 131 990 км^2 (**10-те місце** в Європі)\n",
    "\n",
    "**Населення:** 10 724 599 (2023) (**81-ше місце** у світі)\n",
    "\n",
    "**Державний устрій:** Парламентська республіка\n",
    "\n",
    "**Столиця:** Афіни\n",
    "\n",
    "**Валюта:** Євро\n",
    "\n",
    "**Мова:** Грецька\n",
    "\n",
    "**Офіційний сайт:** [https://www.gov.gr/](https://www.gov.gr/)\n",
    "\n",
    "**# Видатні персоналії**\n",
    "\n",
    "* **Сократ** (470-399 рр. до н.е.) - **філософ**\n",
    "* **Платон** (428-348 рр. до н.е.) - **філософ**\n",
    "* **Аристотель** (384-322 рр. до н.е.) - **філософ**\n",
    "* **Александр Македонський** (356-323 рр. до н.е.) - **полководець**\n",
    "* **Геродот** (484-425 рр. до н.е.) - **історик**\n",
    "* **Піфагор** (570-475 рр. до н.е.) - **математик**\n",
    "* **Гіппократ** (460-377 рр. до н.е.) - **лікар**\n",
    "* **Еврипід** (480-406 рр. до н.е.) - **драматург**\n",
    "* **Софокл** (496-406 рр. до н.е.) - **драматург**\n",
    "* **Гомер** - **поет**\n",
    "\n",
    "**# Пам'ятки культури та природи**\n",
    "\n",
    "* **Акрополь** (Афіни) - **храмовий комплекс**\n",
    "* **Парфенон** (Афіни) - **храм**\n",
    "* **Дельфи** - **археологічний комплекс**\n",
    "* **Метеори** - **комплекс монастирів**\n",
    "* **Кносс** - **палацовий комплекс**\n",
    "* **Олімп** - **гора**\n",
    "* **Сantorini** - **острів**\n",
    "\n",
    "**# Цікаві факти**\n",
    "\n",
    "* **Одна з найдавніших цивілізацій світу**\n",
    "* **Батьківщина Олімпійських ігор**\n",
    "* **Член Європейського Союзу та НАТО**\n",
    "* **Популярна туристична країна**\n",
    "\n",
    "**# Таблиця з даними**\n",
    "\n",
    "| Характеристика | Значення |\n",
    "|---|---|\n",
    "| Площа | 131 990 км^2 |\n",
    "| Населення | 10 724 599 (2023) |\n",
    "| Державний устрій | Парламентська республіка |\n",
    "| Столиця | Афіни |\n",
    "| Валюта | Євро |\n",
    "| Мова | Грецька |\n",
    "\n",
    "**# Вкладені списки**\n",
    "\n",
    "* **Види туризму:**\n",
    "    * Пляжний\n",
    "    * Екскурсійний\n",
    "    * Гастрономічний\n",
    "    * Паломницький\n",
    "* **Найпопулярніші острови:**\n",
    "    * Крит\n",
    "    * Родос\n",
    "    * Корфу\n",
    "    * Санторіні\n",
    "    * Міконос\n",
    "\n",
    "**# Картинки**\n",
    "\n",
    "**Акрополь: ![Акрополь](Attica_06-13_Athens_50_View_from_Philopappos_-_Acropolis_Hill.jpg)**\n",
    "**Олімп ![Олімп](https://upload.wikimedia.org/wikipedia/commons/thumb/e/e8/Olympus_National_Park_30.jpg/2880px-Olympus_National_Park_30.jpg)**\n",
    "\n",
    "**# Гіперпосилання**\n",
    "\n",
    "* Офіційний сайт Греції: [https://www.gov.gr/](https://www.gov.gr/)\n",
    "* Туристичний портал Греції: [https://www.visitgreece.gr/](https://www.visitgreece.gr/)\n",
    "* Вікіпедія про Грецію: [https://uk.wikipedia.org/wiki/%D0%93%D1%80%D0%B5%D1%86%D1%96%D1%8F](https://uk.wikipedia.org/wiki/%D0%93%D1%80%D0%B5%D1%86%D1%96%D1%8F)\n",
    "\n",
    "**# Прапор Греції (SVG)**\n",
    "\n",
    "<svg xmlns=\"http://www.w3.org/2000/svg\" width=\"600\" height=\"400\" viewBox=\"0 0 27 18\">\n",
    "<rect fill=\"#0D5EAF\" width=\"27\" height=\"18\"/>\n",
    "<path fill=\"none\" stroke-width=\"2\" stroke=\"#FFF\" d=\"M5,0V11 M0,5H10 M10,3H27 M10,7H27 M0,11H27 M0,15H27\"/>\n",
    "</svg>\n"
   ]
  },
  {
   "cell_type": "code",
   "execution_count": 1,
   "metadata": {},
   "outputs": [],
   "source": [
    "def is_prime(n):\n",
    "    if n <= 1:\n",
    "        return False\n",
    "    if n <= 3:\n",
    "        return True\n",
    "    if n % 2 == 0 or n % 3 == 0:\n",
    "        return False\n",
    "    i = 5\n",
    "    while i * i <= n:\n",
    "        if n % i == 0 or n % (i + 2) == 0:\n",
    "            return False\n",
    "        i += 6\n",
    "    return True\n",
    "\n",
    "def goldbach(n):\n",
    "    if n <= 2 or n % 2 != 0:\n",
    "        return \"Парне число (окрім 2) не може бути представлене у вигляді суми двох простих чисел.\"\n",
    "    for i in range(2, n//2 + 1):\n",
    "        if is_prime(i) and is_prime(n - i):\n",
    "            return f\"Число {n} можна представити як {i}+{n - i}\"\n",
    "    return \"Не вдалося знайти комбінацію простих чисел для поданого парного числа.\"\n",
    "\n",
    "def task_1():\n",
    "    while True:\n",
    "        try:\n",
    "            n = int(input(\"Введіть парне число (окрім 2): \"))\n",
    "            if n % 2 != 0:\n",
    "                print(\"Ви ввели непарне число. Будь ласка, введіть парне число (окрім 2).\")\n",
    "                continue\n",
    "            print(goldbach(n))\n",
    "            break\n",
    "        except ValueError:\n",
    "            print(\"Введено некоректне значення. Будь ласка, введіть ціле парне число (окрім 2).\")"
   ]
  },
  {
   "cell_type": "code",
   "execution_count": 2,
   "metadata": {},
   "outputs": [
    {
     "name": "stdout",
     "output_type": "stream",
     "text": [
      "Число 8 можна представити як 3+5\n"
     ]
    }
   ],
   "source": [
    "task_1()"
   ]
  },
  {
   "cell_type": "code",
   "execution_count": 3,
   "metadata": {},
   "outputs": [
    {
     "name": "stdout",
     "output_type": "stream",
     "text": [
      "Число 28 можна представити як 5+23\n"
     ]
    }
   ],
   "source": [
    "task_1()"
   ]
  },
  {
   "cell_type": "code",
   "execution_count": 4,
   "metadata": {},
   "outputs": [
    {
     "name": "stdout",
     "output_type": "stream",
     "text": [
      "Ви ввели непарне число. Будь ласка, введіть парне число (окрім 2).\n",
      "Ви ввели непарне число. Будь ласка, введіть парне число (окрім 2).\n",
      "Число 4 можна представити як 2+2\n"
     ]
    }
   ],
   "source": [
    "task_1()"
   ]
  },
  {
   "cell_type": "code",
   "execution_count": 5,
   "metadata": {},
   "outputs": [
    {
     "name": "stdout",
     "output_type": "stream",
     "text": [
      "Парне число (окрім 2) не може бути представлене у вигляді суми двох простих чисел.\n"
     ]
    }
   ],
   "source": [
    "task_1()"
   ]
  },
  {
   "cell_type": "code",
   "execution_count": 6,
   "metadata": {},
   "outputs": [
    {
     "name": "stdout",
     "output_type": "stream",
     "text": [
      "Число 10 можна представити як 3+7\n"
     ]
    }
   ],
   "source": [
    "task_1()"
   ]
  },
  {
   "cell_type": "code",
   "execution_count": 7,
   "metadata": {},
   "outputs": [
    {
     "name": "stdout",
     "output_type": "stream",
     "text": [
      "Введено некоректне значення. Будь ласка, введіть ціле парне число (окрім 2).\n",
      "Число 24 можна представити як 5+19\n"
     ]
    }
   ],
   "source": [
    "task_1()"
   ]
  },
  {
   "cell_type": "markdown",
   "metadata": {},
   "source": []
  }
 ],
 "metadata": {
  "kernelspec": {
   "display_name": "Python 3",
   "language": "python",
   "name": "python3"
  },
  "language_info": {
   "codemirror_mode": {
    "name": "ipython",
    "version": 3
   },
   "file_extension": ".py",
   "mimetype": "text/x-python",
   "name": "python",
   "nbconvert_exporter": "python",
   "pygments_lexer": "ipython3",
   "version": "3.10.11"
  }
 },
 "nbformat": 4,
 "nbformat_minor": 2
}
