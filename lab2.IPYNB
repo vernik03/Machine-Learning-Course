{
 "cells": [
  {
   "cell_type": "markdown",
   "metadata": {},
   "source": [
    "Вправа 1  \n",
    "Вводиться число n. Вивести масив розміру n×n, в\n",
    "якому по діагоналі йдуть числа від 1 до n, а інші числа дорівнюють 0."
   ]
  },
  {
   "cell_type": "code",
   "execution_count": 1,
   "metadata": {},
   "outputs": [
    {
     "name": "stdout",
     "output_type": "stream",
     "text": [
      "[[1 0 0]\n",
      " [0 2 0]\n",
      " [0 0 3]]\n"
     ]
    }
   ],
   "source": [
    "import numpy as np\n",
    "\n",
    "def task_1_numpy(n):\n",
    "    diag = np.arange(1, n + 1)\n",
    "    result = np.diag(diag)\n",
    "    return result\n",
    "\n",
    "n = int(input(\"Enter the value of n: \"))\n",
    "print(task_1_numpy(n))\n"
   ]
  },
  {
   "cell_type": "code",
   "execution_count": 2,
   "metadata": {},
   "outputs": [
    {
     "name": "stdout",
     "output_type": "stream",
     "text": [
      "[[1, 0, 0], [0, 2, 0], [0, 0, 3]]\n"
     ]
    }
   ],
   "source": [
    "def task_1_iterative(n):\n",
    "    result = []\n",
    "    for i in range(n):\n",
    "        row = [0] * n\n",
    "        row[i] = i + 1\n",
    "        result.append(row)\n",
    "    return result\n",
    "\n",
    "n = int(input(\"Enter the value of n: \"))\n",
    "print(task_1_iterative(n))\n"
   ]
  },
  {
   "cell_type": "markdown",
   "metadata": {},
   "source": [
    "Вправа 6  \n",
    "З клавіатури вводиться масив. Замінити всі ненульові\n",
    "елементи на –1."
   ]
  },
  {
   "cell_type": "code",
   "execution_count": 4,
   "metadata": {},
   "outputs": [
    {
     "name": "stdout",
     "output_type": "stream",
     "text": [
      "[-1 -1 -1 -1 -1  0 -1 -1  0 -1]\n"
     ]
    }
   ],
   "source": [
    "def task_6_numpy(arr):\n",
    "    return np.where(arr != 0, -1, arr)\n",
    "\n",
    "user_input = input(\"Enter array elements separated by space: \")\n",
    "arr = np.array(list(map(int, user_input.split())))\n",
    "print(task_6_numpy(arr))\n"
   ]
  },
  {
   "cell_type": "code",
   "execution_count": 5,
   "metadata": {},
   "outputs": [
    {
     "name": "stdout",
     "output_type": "stream",
     "text": [
      "[-1, -1, -1, -1, 0, -1, -1, -1, 0]\n"
     ]
    }
   ],
   "source": [
    "def task_6_iterative(arr):\n",
    "    result = [-1 if x != 0 else x for x in arr]\n",
    "    return result\n",
    "\n",
    "user_input = input(\"Enter array elements separated by space: \")\n",
    "arr = list(map(int, user_input.split()))\n",
    "print(task_6_iterative(arr))"
   ]
  },
  {
   "cell_type": "markdown",
   "metadata": {},
   "source": [
    "Вправа 7  \n",
    "З клавіатури вводиться масив. Замінити всі нульові\n",
    "елементи на –1."
   ]
  },
  {
   "cell_type": "code",
   "execution_count": 6,
   "metadata": {},
   "outputs": [
    {
     "name": "stdout",
     "output_type": "stream",
     "text": [
      "[  5   2  21  -1   1   2 300  -1]\n"
     ]
    }
   ],
   "source": [
    "def task_7_numpy(arr):\n",
    "    return np.where(arr == 0, -1, arr)\n",
    "\n",
    "user_input = input(\"Enter array elements separated by space: \")\n",
    "arr = np.array(list(map(int, user_input.split())))\n",
    "print(task_7_numpy(arr))\n"
   ]
  },
  {
   "cell_type": "code",
   "execution_count": 7,
   "metadata": {},
   "outputs": [
    {
     "name": "stdout",
     "output_type": "stream",
     "text": [
      "[2, 1, -1, 2, 5, 1, -1]\n"
     ]
    }
   ],
   "source": [
    "def task_7_iterative(arr):\n",
    "    result = [-1 if x == 0 else x for x in arr]\n",
    "    return result\n",
    "\n",
    "user_input = input(\"Enter array elements separated by space: \")\n",
    "arr = list(map(int, user_input.split()))\n",
    "print(task_7_iterative(arr))\n"
   ]
  },
  {
   "cell_type": "markdown",
   "metadata": {},
   "source": [
    "Вправа 9  \n",
    "Вводиться число n. Створити масив значень від n до 0."
   ]
  },
  {
   "cell_type": "code",
   "execution_count": 9,
   "metadata": {},
   "outputs": [
    {
     "name": "stdout",
     "output_type": "stream",
     "text": [
      "[10  9  8  7  6  5  4  3  2  1  0]\n"
     ]
    }
   ],
   "source": [
    "def task_9_numpy(n):\n",
    "    return np.arange(n, -1, -1)\n",
    "\n",
    "n = int(input(\"Enter the value of n: \"))\n",
    "print(task_9_numpy(n))\n"
   ]
  },
  {
   "cell_type": "code",
   "execution_count": 10,
   "metadata": {},
   "outputs": [
    {
     "name": "stdout",
     "output_type": "stream",
     "text": [
      "[10, 9, 8, 7, 6, 5, 4, 3, 2, 1, 0]\n"
     ]
    }
   ],
   "source": [
    "def task_9_iterative(n):\n",
    "    return list(range(n, -1, -1))\n",
    "\n",
    "n = int(input(\"Enter the value of n: \"))\n",
    "print(task_9_iterative(n))\n"
   ]
  },
  {
   "cell_type": "markdown",
   "metadata": {},
   "source": [
    "Вправа 10  \n",
    "Вводиться числа n i m. Створити масив випадкових\n",
    "значень n×m і обчислити мінімальне, максимальне значення, середнє та\n",
    "середньо квадратичне відхилення, округлене до 3 знаків після коми."
   ]
  },
  {
   "cell_type": "code",
   "execution_count": 12,
   "metadata": {},
   "outputs": [
    {
     "name": "stdout",
     "output_type": "stream",
     "text": [
      "Minimum: 0.0030529606533317155\n",
      "Maximum: 0.9868177575239394\n",
      "Mean: 0.5689276980729471\n",
      "Standard Deviation: 0.271\n"
     ]
    }
   ],
   "source": [
    "def task_10_numpy(n, m):\n",
    "    array = np.random.rand(n, m)\n",
    "    minimum = np.min(array)\n",
    "    maximum = np.max(array)\n",
    "    mean = np.mean(array)\n",
    "    std_dev = np.round(np.std(array), 3)\n",
    "    return minimum, maximum, mean, std_dev\n",
    "\n",
    "n, m = map(int, input(\"Enter n and m separated by space: \").split())\n",
    "result = task_10_numpy(n, m)\n",
    "print(\"Minimum:\", result[0])\n",
    "print(\"Maximum:\", result[1])\n",
    "print(\"Mean:\", result[2])\n",
    "print(\"Standard Deviation:\", result[3])\n"
   ]
  },
  {
   "cell_type": "code",
   "execution_count": 13,
   "metadata": {},
   "outputs": [
    {
     "name": "stdout",
     "output_type": "stream",
     "text": [
      "Minimum: 0.016723166324256633\n",
      "Maximum: 0.8779204951815105\n",
      "Mean: 0.45064050820239815\n",
      "Standard Deviation: 0.266\n"
     ]
    }
   ],
   "source": [
    "import random\n",
    "\n",
    "def task_10_iterative(n, m):\n",
    "    array = [[random.random() for _ in range(m)] for _ in range(n)]\n",
    "    flatten_array = [item for sublist in array for item in sublist]\n",
    "    minimum = min(flatten_array)\n",
    "    maximum = max(flatten_array)\n",
    "    mean = sum(flatten_array) / len(flatten_array)\n",
    "    std_dev = round((sum((x - mean) ** 2 for x in flatten_array) / len(flatten_array)) ** 0.5, 3)\n",
    "    return minimum, maximum, mean, std_dev\n",
    "\n",
    "n, m = map(int, input(\"Enter n and m separated by space: \").split())\n",
    "result = task_10_iterative(n, m)\n",
    "print(\"Minimum:\", result[0])\n",
    "print(\"Maximum:\", result[1])\n",
    "print(\"Mean:\", result[2])\n",
    "print(\"Standard Deviation:\", result[3])\n"
   ]
  },
  {
   "cell_type": "markdown",
   "metadata": {},
   "source": [
    "Вправа 11  \n",
    "Створити масив одиниць розміром n×n та додати до\n",
    "нього «рамку», що утворюється з 0."
   ]
  },
  {
   "cell_type": "code",
   "execution_count": 15,
   "metadata": {},
   "outputs": [
    {
     "name": "stdout",
     "output_type": "stream",
     "text": [
      "[[0 0 0 0 0]\n",
      " [0 1 1 1 0]\n",
      " [0 1 1 1 0]\n",
      " [0 1 1 1 0]\n",
      " [0 0 0 0 0]]\n"
     ]
    }
   ],
   "source": [
    "def task_11_numpy(n):\n",
    "    inner = np.ones((n, n), dtype=int)\n",
    "    outer = np.pad(inner, pad_width=1, mode='constant')\n",
    "    return outer\n",
    "\n",
    "n = int(input(\"Enter the value of n: \"))\n",
    "print(task_11_numpy(n))\n"
   ]
  },
  {
   "cell_type": "code",
   "execution_count": 16,
   "metadata": {},
   "outputs": [
    {
     "name": "stdout",
     "output_type": "stream",
     "text": [
      "[[0, 0, 0, 0, 0], [0, 1, 1, 1, 0], [0, 1, 1, 1, 0], [0, 1, 1, 1, 0], [0, 0, 0, 0, 0]]\n"
     ]
    }
   ],
   "source": [
    "def task_11_iterative(n):\n",
    "    outer = [[0] * (n + 2) for _ in range(n + 2)]\n",
    "    for i in range(1, n + 1):\n",
    "        for j in range(1, n + 1):\n",
    "            outer[i][j] = 1\n",
    "    return outer\n",
    "\n",
    "n = int(input(\"Enter the value of n: \"))\n",
    "print(task_11_iterative(n))\n"
   ]
  },
  {
   "cell_type": "markdown",
   "metadata": {},
   "source": [
    "Вправа 15  \n",
    "Заповнити парні стовпчикі матриці розміром n×n\n",
    "одиницями, а непарні – нулями."
   ]
  },
  {
   "cell_type": "code",
   "execution_count": 19,
   "metadata": {},
   "outputs": [
    {
     "name": "stdout",
     "output_type": "stream",
     "text": [
      "[[1 0 1 0 1]\n",
      " [1 0 1 0 1]\n",
      " [1 0 1 0 1]\n",
      " [1 0 1 0 1]\n",
      " [1 0 1 0 1]]\n"
     ]
    }
   ],
   "source": [
    "import numpy as np\n",
    "\n",
    "def task_15_numpy(n):\n",
    "    matrix = np.zeros((n, n), dtype=int)\n",
    "    matrix[:, ::2] = 1\n",
    "    return matrix\n",
    "\n",
    "n = int(input(\"Enter the value of n: \"))\n",
    "print(task_15_numpy(n))\n"
   ]
  },
  {
   "cell_type": "code",
   "execution_count": 20,
   "metadata": {},
   "outputs": [
    {
     "name": "stdout",
     "output_type": "stream",
     "text": [
      "[[1, 0, 1, 0, 1], [1, 0, 1, 0, 1], [1, 0, 1, 0, 1], [1, 0, 1, 0, 1], [1, 0, 1, 0, 1]]\n"
     ]
    }
   ],
   "source": [
    "def task_15_iterative(n):\n",
    "    matrix = [[1 if j % 2 == 0 else 0 for j in range(n)] for i in range(n)]\n",
    "    return matrix\n",
    "\n",
    "n = int(input(\"Enter the value of n: \"))\n",
    "print(task_15_iterative(n))\n"
   ]
  },
  {
   "cell_type": "markdown",
   "metadata": {},
   "source": [
    "Вправа 17  \n",
    "Заповнити вектор значеннями від 0 до n. Замінити\n",
    "знаки для всіх значень, що менші за n/2 та більші за 3n/4 на\n",
    "протилежні."
   ]
  },
  {
   "cell_type": "code",
   "execution_count": 21,
   "metadata": {},
   "outputs": [
    {
     "name": "stdout",
     "output_type": "stream",
     "text": [
      "[ 0 -1 -2 -3  4  5 -6]\n"
     ]
    }
   ],
   "source": [
    "def task_17_numpy(n):\n",
    "    vector = np.arange(n)\n",
    "    condition1 = vector < n/2\n",
    "    condition2 = vector > 3*n/4\n",
    "    vector[condition1 | condition2] *= -1\n",
    "    return vector\n",
    "\n",
    "n = int(input(\"Enter the value of n: \"))\n",
    "print(task_17_numpy(n))\n"
   ]
  },
  {
   "cell_type": "code",
   "execution_count": 22,
   "metadata": {},
   "outputs": [
    {
     "name": "stdout",
     "output_type": "stream",
     "text": [
      "[0, -1, -2, -3, 4, 5, -6]\n"
     ]
    }
   ],
   "source": [
    "def task_17_iterative(n):\n",
    "    vector = list(range(n))\n",
    "    for i in range(len(vector)):\n",
    "        if vector[i] < n/2 or vector[i] > 3*n/4:\n",
    "            vector[i] *= -1\n",
    "    return vector\n",
    "\n",
    "n = int(input(\"Enter the value of n: \"))\n",
    "print(task_17_iterative(n))\n"
   ]
  },
  {
   "cell_type": "markdown",
   "metadata": {},
   "source": [
    "Вправа 18  \n",
    "Згенерувати вектор з n випадкових чисел в діапазоні\n",
    "від 0 до 99. Визначити кількість унікальних чисел в послідовності."
   ]
  },
  {
   "cell_type": "code",
   "execution_count": 23,
   "metadata": {},
   "outputs": [
    {
     "name": "stdout",
     "output_type": "stream",
     "text": [
      "In the sequence [85 99 67 18 12 38 74 50 95 72 60 83 70 57 81 72  7 86 45 83 78  7 93 95\n",
      "  9 43  6  2 26 77] - there are 26 unique numbers.\n"
     ]
    }
   ],
   "source": [
    "def task_18_numpy(n):\n",
    "    sequence = np.random.randint(0, 100, n)\n",
    "    unique_count = len(np.unique(sequence))\n",
    "    return sequence, unique_count\n",
    "\n",
    "n = int(input(\"Enter the value of n: \"))\n",
    "result, unique_count = task_18_numpy(n)\n",
    "print(\"In the sequence\", result, \"- there are\", unique_count, \"unique numbers.\")\n"
   ]
  },
  {
   "cell_type": "code",
   "execution_count": 24,
   "metadata": {},
   "outputs": [
    {
     "name": "stdout",
     "output_type": "stream",
     "text": [
      "In the sequence [82, 65, 57, 28, 17, 35, 12, 9, 39, 26, 32, 78, 68, 97, 73, 85, 62, 73, 82, 24, 70, 40, 40, 31, 13, 81, 63, 97, 57, 87] - there are 25 unique numbers.\n"
     ]
    }
   ],
   "source": [
    "import random\n",
    "\n",
    "def task_18_iterative(n):\n",
    "    sequence = [random.randint(0, 99) for _ in range(n)]\n",
    "    unique_count = len(set(sequence))\n",
    "    return sequence, unique_count\n",
    "\n",
    "n = int(input(\"Enter the value of n: \"))\n",
    "result, unique_count = task_18_iterative(n)\n",
    "print(\"In the sequence\", result, \"- there are\", unique_count, \"unique numbers.\")\n"
   ]
  },
  {
   "cell_type": "markdown",
   "metadata": {},
   "source": [
    "Розв’язати систему алгебраїчних рівнянь за допомогою\n",
    "формул Крамера і виконати перевірку за допомогою:\n",
    "a) матричного множення;\n",
    "b) оберненої матриці;\n",
    "c) функції numpy.linalg.solve().\n",
    "Порівняти всі рішення за допомогою функції numpy.allclose().\n",
    "\n",
    "$$\n",
    "\\begin{cases}\n",
    "    x₁ + x₂ + 2x₃ + 3x₄ = 1 \\\\\n",
    "    3x₁ - x₂ - x₃ - 2x₄ = -4 \\\\\n",
    "    2x₁ - 3x₂ - x₃ - x₄ = -6 \\\\\n",
    "    x₁ + 2x₂ + 3x₃ - x₄ = -4 \n",
    "\\end{cases}\n",
    "$$\n"
   ]
  },
  {
   "cell_type": "code",
   "execution_count": 31,
   "metadata": {},
   "outputs": [
    {
     "name": "stdout",
     "output_type": "stream",
     "text": [
      "Kramer solutions: [-0.5555555555555552, 1.888888888888888, -2.0000000000000004, 1.2222222222222228]\n",
      "Matrix multiplication solution: [-0.55555556  1.88888889 -2.          1.22222222]\n",
      "Inverse matrix solution: [-0.55555556  1.88888889 -2.          1.22222222]\n",
      "numpy.linalg.solve() solution: [-0.55555556  1.88888889 -2.          1.22222222]\n",
      "\n",
      "\n",
      "Results are close (Kramer vs Matrix multiplication): True\n",
      "Results are close (Kramer vs Inverse matrix): True\n",
      "Results are close (Kramer vs numpy.linalg.solve()): True\n"
     ]
    }
   ],
   "source": [
    "import numpy as np\n",
    "\n",
    "# Основна матриця системи рівнянь\n",
    "A = np.array([[1, 1, 2, 3],\n",
    "              [3, -1, -1, -2],\n",
    "              [2, -3, -1, -1],\n",
    "              [1, 2, 3, -1]])\n",
    "\n",
    "# Права частина системи рівнянь\n",
    "B = np.array([1, -4, -6, -4])\n",
    "\n",
    "# Визначник основної матриці\n",
    "det_A = np.linalg.det(A)\n",
    "\n",
    "# Функція для розрахунку розв'язків за допомогою формул Крамера\n",
    "def kramer_method(A, B):\n",
    "    solutions = []\n",
    "    for i in range(A.shape[0]):\n",
    "        Ai = A.copy()\n",
    "        Ai[:, i] = B\n",
    "        det_Ai = np.linalg.det(Ai)\n",
    "        xi = det_Ai / det_A\n",
    "        solutions.append(xi)\n",
    "    return solutions\n",
    "\n",
    "# Розв'язки за допомогою формул Крамера\n",
    "kramer_solutions = kramer_method(A, B)\n",
    "\n",
    "# Розв'язки за допомогою матричного множення\n",
    "matrix_mul_solution = np.linalg.inv(A) @ B\n",
    "\n",
    "# Розв'язки за допомогою оберненої матриці\n",
    "inverse_matrix_solution = np.linalg.inv(A) @ B\n",
    "\n",
    "# Розв'язки за допомогою функції numpy.linalg.solve()\n",
    "solve_solution = np.linalg.solve(A, B)\n",
    "\n",
    "# Виведення результатів\n",
    "print(\"Kramer solutions:\", kramer_solutions)\n",
    "print(\"Matrix multiplication solution:\", matrix_mul_solution)\n",
    "print(\"Inverse matrix solution:\", inverse_matrix_solution)\n",
    "print(\"numpy.linalg.solve() solution:\", solve_solution)\n",
    "print(\"\\n\")\n",
    "# Порівняння результатів\n",
    "print(\"Results are close (Kramer vs Matrix multiplication):\", np.allclose(kramer_solutions, matrix_mul_solution))\n",
    "print(\"Results are close (Kramer vs Inverse matrix):\", np.allclose(kramer_solutions, inverse_matrix_solution))\n",
    "print(\"Results are close (Kramer vs numpy.linalg.solve()):\", np.allclose(kramer_solutions, solve_solution))"
   ]
  },
  {
   "cell_type": "markdown",
   "metadata": {},
   "source": [
    "Обчислити значення матричного виразу\n",
    "а) з використанням універсальних функцій бібліотеки NumPy.\n",
    "b) за допомогою ітеративних конструкцій (з використанням\n",
    "циклів, спискових включень тощо).\n",
    "с) для обох випадків підрахувати час виконання скрипту та\n",
    "зробити висновок.\n",
    "Порівняти всі рішення за допомогою функції numpy.allclose().  \n",
    "\n",
    "$$ 2(A+B)(2B-A), $$\n",
    "\n",
    "де\n",
    "\n",
    "$$ A = \\begin{bmatrix} 2 & 3 & -1 \\\\ 4 & 5 & 2 \\\\ -1 & 0 & 7 \\end{bmatrix}, $$\n",
    "$$ B = \\begin{bmatrix} -1 & 0 & 5 \\\\ 0 & 1 & 3 \\\\ 2 & -2 & 4 \\end{bmatrix}. $$"
   ]
  },
  {
   "cell_type": "code",
   "execution_count": 45,
   "metadata": {},
   "outputs": [
    {
     "name": "stdout",
     "output_type": "stream",
     "text": [
      "Результат з використанням NumPy:\n",
      " [[   8  -56   54]\n",
      " [ -30 -100  146]\n",
      " [ 118  -82   28]]\n",
      "Результат з використанням ітеративних конструкцій:\n",
      " [[   8.  -56.   54.]\n",
      " [ -30. -100.  146.]\n",
      " [ 118.  -82.   28.]]\n",
      "Результати співпадають: True\n",
      "Час виконання з використанням NumPy: 0.0\n",
      "Час виконання з використанням ітеративних конструкцій: 0.0\n"
     ]
    }
   ],
   "source": [
    "import numpy as np\n",
    "import time\n",
    "\n",
    "# Задання матриць A та B\n",
    "A = np.array([[2, 3, -1], [4, 5, 2], [-1, 0, 7]])\n",
    "B = np.array([[-1, 0, 5], [0, 1, 3], [2, -2, 4]])\n",
    "\n",
    "# Обчислення значення матричного виразу з використанням NumPy\n",
    "start_time = time.time()\n",
    "result_np = 2 * (A + B) @ (2 * B - A)\n",
    "numpy_execution_time = time.time() - start_time\n",
    "\n",
    "# Обчислення значення матричного виразу за допомогою ітеративних конструкцій\n",
    "start_time = time.time()\n",
    "result_iterative = np.zeros((len(A), len(B[0])))\n",
    "for i in range(len(A)):\n",
    "    for j in range(len(B[0])):\n",
    "        val = 0\n",
    "        for k in range(len(B)):\n",
    "            val += (2 * (A[i][k] + B[i][k]) * (2 * B[k][j] - A[k][j]))  # Виправлення помилки тут\n",
    "        result_iterative[i][j] = val\n",
    "iterative_execution_time = time.time() - start_time\n",
    "\n",
    "# Порівняння результатів за допомогою numpy.allclose()\n",
    "close_results = np.allclose(result_np, result_iterative)\n",
    "\n",
    "# Виведення результатів та часу виконання\n",
    "print(\"Результат з використанням NumPy:\\n\", result_np)\n",
    "print(\"Результат з використанням ітеративних конструкцій:\\n\", result_iterative)\n",
    "print(\"Результати співпадають:\", close_results)\n",
    "print(\"Час виконання з використанням NumPy:\", numpy_execution_time)\n",
    "print(\"Час виконання з використанням ітеративних конструкцій:\", iterative_execution_time)\n"
   ]
  }
 ],
 "metadata": {
  "kernelspec": {
   "display_name": "Python 3",
   "language": "python",
   "name": "python3"
  },
  "language_info": {
   "codemirror_mode": {
    "name": "ipython",
    "version": 3
   },
   "file_extension": ".py",
   "mimetype": "text/x-python",
   "name": "python",
   "nbconvert_exporter": "python",
   "pygments_lexer": "ipython3",
   "version": "3.10.11"
  }
 },
 "nbformat": 4,
 "nbformat_minor": 2
}
